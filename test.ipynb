{
 "cells": [
  {
   "cell_type": "code",
   "execution_count": 1,
   "metadata": {},
   "outputs": [
    {
     "name": "stdout",
     "output_type": "stream",
     "text": [
      "Requirement already satisfied: pyautogui in /Users/lincai/anaconda3/lib/python3.10/site-packages (0.9.54)\n",
      "Requirement already satisfied: pyobjc-core in /Users/lincai/anaconda3/lib/python3.10/site-packages (from pyautogui) (10.1)\n",
      "Requirement already satisfied: pymsgbox in /Users/lincai/anaconda3/lib/python3.10/site-packages (from pyautogui) (1.0.9)\n",
      "Requirement already satisfied: pytweening>=1.0.4 in /Users/lincai/anaconda3/lib/python3.10/site-packages (from pyautogui) (1.2.0)\n",
      "Requirement already satisfied: mouseinfo in /Users/lincai/anaconda3/lib/python3.10/site-packages (from pyautogui) (0.1.3)\n",
      "Requirement already satisfied: pyscreeze>=0.1.21 in /Users/lincai/anaconda3/lib/python3.10/site-packages (from pyautogui) (0.1.30)\n",
      "Requirement already satisfied: pygetwindow>=0.0.5 in /Users/lincai/anaconda3/lib/python3.10/site-packages (from pyautogui) (0.0.9)\n",
      "Requirement already satisfied: pyobjc-framework-quartz in /Users/lincai/anaconda3/lib/python3.10/site-packages (from pyautogui) (10.1)\n",
      "Requirement already satisfied: pyrect in /Users/lincai/anaconda3/lib/python3.10/site-packages (from pygetwindow>=0.0.5->pyautogui) (0.2.0)\n",
      "Requirement already satisfied: Pillow>=9.2.0 in /Users/lincai/anaconda3/lib/python3.10/site-packages (from pyscreeze>=0.1.21->pyautogui) (10.2.0)\n",
      "Requirement already satisfied: rubicon-objc in /Users/lincai/anaconda3/lib/python3.10/site-packages (from mouseinfo->pyautogui) (0.4.7)\n",
      "Requirement already satisfied: pyperclip in /Users/lincai/anaconda3/lib/python3.10/site-packages (from mouseinfo->pyautogui) (1.8.2)\n",
      "Requirement already satisfied: pyobjc-framework-Cocoa>=10.1 in /Users/lincai/anaconda3/lib/python3.10/site-packages (from pyobjc-framework-quartz->pyautogui) (10.1)\n",
      "Looking in indexes: https://mirror.baidu.com/pypi/simple\n",
      "Requirement already satisfied: paddlepaddle in /Users/lincai/anaconda3/lib/python3.10/site-packages (2.6.0)\n",
      "Requirement already satisfied: decorator in /Users/lincai/anaconda3/lib/python3.10/site-packages (from paddlepaddle) (5.1.1)\n",
      "Requirement already satisfied: astor in /Users/lincai/anaconda3/lib/python3.10/site-packages (from paddlepaddle) (0.8.1)\n",
      "Requirement already satisfied: opt-einsum==3.3.0 in /Users/lincai/anaconda3/lib/python3.10/site-packages (from paddlepaddle) (3.3.0)\n",
      "Requirement already satisfied: Pillow in /Users/lincai/anaconda3/lib/python3.10/site-packages (from paddlepaddle) (10.2.0)\n",
      "Requirement already satisfied: protobuf>=3.20.2 in /Users/lincai/anaconda3/lib/python3.10/site-packages (from paddlepaddle) (4.25.3)\n",
      "Requirement already satisfied: httpx in /Users/lincai/anaconda3/lib/python3.10/site-packages (from paddlepaddle) (0.27.0)\n",
      "Requirement already satisfied: numpy>=1.13 in /Users/lincai/anaconda3/lib/python3.10/site-packages (from paddlepaddle) (1.24.3)\n",
      "Requirement already satisfied: certifi in /Users/lincai/anaconda3/lib/python3.10/site-packages (from httpx->paddlepaddle) (2022.12.7)\n",
      "Requirement already satisfied: httpcore==1.* in /Users/lincai/anaconda3/lib/python3.10/site-packages (from httpx->paddlepaddle) (1.0.4)\n",
      "Requirement already satisfied: idna in /Users/lincai/anaconda3/lib/python3.10/site-packages (from httpx->paddlepaddle) (3.4)\n",
      "Requirement already satisfied: anyio in /Users/lincai/anaconda3/lib/python3.10/site-packages (from httpx->paddlepaddle) (4.3.0)\n",
      "Requirement already satisfied: sniffio in /Users/lincai/anaconda3/lib/python3.10/site-packages (from httpx->paddlepaddle) (1.3.1)\n",
      "Requirement already satisfied: h11<0.15,>=0.13 in /Users/lincai/anaconda3/lib/python3.10/site-packages (from httpcore==1.*->httpx->paddlepaddle) (0.14.0)\n",
      "Requirement already satisfied: exceptiongroup>=1.0.2 in /Users/lincai/anaconda3/lib/python3.10/site-packages (from anyio->httpx->paddlepaddle) (1.2.0)\n",
      "Requirement already satisfied: typing-extensions>=4.1 in /Users/lincai/anaconda3/lib/python3.10/site-packages (from anyio->httpx->paddlepaddle) (4.5.0)\n",
      "Requirement already satisfied: paddleocr>=2.0.1 in /Users/lincai/anaconda3/lib/python3.10/site-packages (2.7.0.3)\n",
      "Requirement already satisfied: visualdl in /Users/lincai/anaconda3/lib/python3.10/site-packages (from paddleocr>=2.0.1) (2.5.3)\n",
      "Requirement already satisfied: python-docx in /Users/lincai/anaconda3/lib/python3.10/site-packages (from paddleocr>=2.0.1) (1.1.0)\n",
      "Requirement already satisfied: lxml in /Users/lincai/anaconda3/lib/python3.10/site-packages (from paddleocr>=2.0.1) (5.1.0)\n",
      "Requirement already satisfied: scikit-image in /Users/lincai/anaconda3/lib/python3.10/site-packages (from paddleocr>=2.0.1) (0.22.0)\n",
      "Requirement already satisfied: fire>=0.3.0 in /Users/lincai/anaconda3/lib/python3.10/site-packages (from paddleocr>=2.0.1) (0.6.0)\n",
      "Requirement already satisfied: beautifulsoup4 in /Users/lincai/anaconda3/lib/python3.10/site-packages (from paddleocr>=2.0.1) (4.12.2)\n",
      "Requirement already satisfied: cython in /Users/lincai/anaconda3/lib/python3.10/site-packages (from paddleocr>=2.0.1) (3.0.9)\n",
      "Requirement already satisfied: imgaug in /Users/lincai/anaconda3/lib/python3.10/site-packages (from paddleocr>=2.0.1) (0.4.0)\n",
      "Requirement already satisfied: PyMuPDF<1.21.0 in /Users/lincai/anaconda3/lib/python3.10/site-packages (from paddleocr>=2.0.1) (1.20.2)\n",
      "Requirement already satisfied: pdf2docx in /Users/lincai/anaconda3/lib/python3.10/site-packages (from paddleocr>=2.0.1) (0.5.8)\n",
      "Requirement already satisfied: shapely in /Users/lincai/anaconda3/lib/python3.10/site-packages (from paddleocr>=2.0.1) (2.0.3)\n",
      "Requirement already satisfied: pyclipper in /Users/lincai/anaconda3/lib/python3.10/site-packages (from paddleocr>=2.0.1) (1.3.0.post5)\n",
      "Requirement already satisfied: numpy in /Users/lincai/anaconda3/lib/python3.10/site-packages (from paddleocr>=2.0.1) (1.24.3)\n",
      "Requirement already satisfied: openpyxl in /Users/lincai/anaconda3/lib/python3.10/site-packages (from paddleocr>=2.0.1) (3.1.2)\n",
      "Requirement already satisfied: Pillow>=10.0.0 in /Users/lincai/anaconda3/lib/python3.10/site-packages (from paddleocr>=2.0.1) (10.2.0)\n",
      "Requirement already satisfied: pyyaml in /Users/lincai/anaconda3/lib/python3.10/site-packages (from paddleocr>=2.0.1) (6.0)\n",
      "Requirement already satisfied: tqdm in /Users/lincai/anaconda3/lib/python3.10/site-packages (from paddleocr>=2.0.1) (4.65.0)\n",
      "Requirement already satisfied: fonttools>=4.24.0 in /Users/lincai/anaconda3/lib/python3.10/site-packages (from paddleocr>=2.0.1) (4.50.0)\n",
      "Requirement already satisfied: attrdict in /Users/lincai/anaconda3/lib/python3.10/site-packages (from paddleocr>=2.0.1) (2.0.1)\n",
      "Requirement already satisfied: rapidfuzz in /Users/lincai/anaconda3/lib/python3.10/site-packages (from paddleocr>=2.0.1) (3.6.2)\n",
      "Requirement already satisfied: lmdb in /Users/lincai/anaconda3/lib/python3.10/site-packages (from paddleocr>=2.0.1) (1.4.1)\n",
      "Requirement already satisfied: opencv-python<=4.6.0.66 in /Users/lincai/anaconda3/lib/python3.10/site-packages (from paddleocr>=2.0.1) (4.6.0.66)\n",
      "Requirement already satisfied: premailer in /Users/lincai/anaconda3/lib/python3.10/site-packages (from paddleocr>=2.0.1) (3.10.0)\n",
      "Requirement already satisfied: opencv-contrib-python<=4.6.0.66 in /Users/lincai/anaconda3/lib/python3.10/site-packages (from paddleocr>=2.0.1) (4.6.0.66)\n",
      "Requirement already satisfied: six in /Users/lincai/anaconda3/lib/python3.10/site-packages (from fire>=0.3.0->paddleocr>=2.0.1) (1.16.0)\n",
      "Requirement already satisfied: termcolor in /Users/lincai/anaconda3/lib/python3.10/site-packages (from fire>=0.3.0->paddleocr>=2.0.1) (2.4.0)\n",
      "Requirement already satisfied: soupsieve>1.2 in /Users/lincai/anaconda3/lib/python3.10/site-packages (from beautifulsoup4->paddleocr>=2.0.1) (2.4)\n",
      "Requirement already satisfied: scipy in /Users/lincai/anaconda3/lib/python3.10/site-packages (from imgaug->paddleocr>=2.0.1) (1.12.0)\n",
      "Requirement already satisfied: imageio in /Users/lincai/anaconda3/lib/python3.10/site-packages (from imgaug->paddleocr>=2.0.1) (2.34.0)\n",
      "Requirement already satisfied: matplotlib in /Users/lincai/anaconda3/lib/python3.10/site-packages (from imgaug->paddleocr>=2.0.1) (3.8.3)\n",
      "Requirement already satisfied: tifffile>=2022.8.12 in /Users/lincai/anaconda3/lib/python3.10/site-packages (from scikit-image->paddleocr>=2.0.1) (2024.2.12)\n",
      "Requirement already satisfied: lazy_loader>=0.3 in /Users/lincai/anaconda3/lib/python3.10/site-packages (from scikit-image->paddleocr>=2.0.1) (0.3)\n",
      "Requirement already satisfied: networkx>=2.8 in /Users/lincai/anaconda3/lib/python3.10/site-packages (from scikit-image->paddleocr>=2.0.1) (3.2.1)\n",
      "Requirement already satisfied: packaging>=21 in /Users/lincai/anaconda3/lib/python3.10/site-packages (from scikit-image->paddleocr>=2.0.1) (23.0)\n",
      "Requirement already satisfied: et-xmlfile in /Users/lincai/anaconda3/lib/python3.10/site-packages (from openpyxl->paddleocr>=2.0.1) (1.1.0)\n",
      "Requirement already satisfied: opencv-python-headless>=4.5 in /Users/lincai/anaconda3/lib/python3.10/site-packages (from pdf2docx->paddleocr>=2.0.1) (4.9.0.80)\n",
      "Requirement already satisfied: typing-extensions in /Users/lincai/anaconda3/lib/python3.10/site-packages (from python-docx->paddleocr>=2.0.1) (4.5.0)\n",
      "Requirement already satisfied: cssutils in /Users/lincai/anaconda3/lib/python3.10/site-packages (from premailer->paddleocr>=2.0.1) (2.9.0)\n",
      "Requirement already satisfied: requests in /Users/lincai/anaconda3/lib/python3.10/site-packages (from premailer->paddleocr>=2.0.1) (2.31.0)\n",
      "Requirement already satisfied: cssselect in /Users/lincai/anaconda3/lib/python3.10/site-packages (from premailer->paddleocr>=2.0.1) (1.2.0)\n",
      "Requirement already satisfied: cachetools in /Users/lincai/anaconda3/lib/python3.10/site-packages (from premailer->paddleocr>=2.0.1) (5.3.3)\n",
      "Requirement already satisfied: bce-python-sdk in /Users/lincai/anaconda3/lib/python3.10/site-packages (from visualdl->paddleocr>=2.0.1) (0.9.5)\n",
      "Requirement already satisfied: protobuf>=3.20.0 in /Users/lincai/anaconda3/lib/python3.10/site-packages (from visualdl->paddleocr>=2.0.1) (4.25.3)\n",
      "Requirement already satisfied: Flask-Babel>=3.0.0 in /Users/lincai/anaconda3/lib/python3.10/site-packages (from visualdl->paddleocr>=2.0.1) (4.0.0)\n",
      "Requirement already satisfied: psutil in /Users/lincai/anaconda3/lib/python3.10/site-packages (from visualdl->paddleocr>=2.0.1) (5.9.0)\n",
      "Requirement already satisfied: pandas in /Users/lincai/anaconda3/lib/python3.10/site-packages (from visualdl->paddleocr>=2.0.1) (2.2.1)\n",
      "Requirement already satisfied: flask>=1.1.1 in /Users/lincai/anaconda3/lib/python3.10/site-packages (from visualdl->paddleocr>=2.0.1) (3.0.2)\n",
      "Requirement already satisfied: rarfile in /Users/lincai/anaconda3/lib/python3.10/site-packages (from visualdl->paddleocr>=2.0.1) (4.1)\n",
      "Requirement already satisfied: blinker>=1.6.2 in /Users/lincai/anaconda3/lib/python3.10/site-packages (from flask>=1.1.1->visualdl->paddleocr>=2.0.1) (1.7.0)\n",
      "Requirement already satisfied: Werkzeug>=3.0.0 in /Users/lincai/anaconda3/lib/python3.10/site-packages (from flask>=1.1.1->visualdl->paddleocr>=2.0.1) (3.0.1)\n",
      "Requirement already satisfied: click>=8.1.3 in /Users/lincai/anaconda3/lib/python3.10/site-packages (from flask>=1.1.1->visualdl->paddleocr>=2.0.1) (8.1.7)\n",
      "Requirement already satisfied: Jinja2>=3.1.2 in /Users/lincai/anaconda3/lib/python3.10/site-packages (from flask>=1.1.1->visualdl->paddleocr>=2.0.1) (3.1.2)\n",
      "Requirement already satisfied: itsdangerous>=2.1.2 in /Users/lincai/anaconda3/lib/python3.10/site-packages (from flask>=1.1.1->visualdl->paddleocr>=2.0.1) (2.1.2)\n",
      "Requirement already satisfied: pytz>=2022.7 in /Users/lincai/anaconda3/lib/python3.10/site-packages (from Flask-Babel>=3.0.0->visualdl->paddleocr>=2.0.1) (2022.7)\n",
      "Requirement already satisfied: Babel>=2.12 in /Users/lincai/anaconda3/lib/python3.10/site-packages (from Flask-Babel>=3.0.0->visualdl->paddleocr>=2.0.1) (2.14.0)\n",
      "Requirement already satisfied: future>=0.6.0 in /Users/lincai/anaconda3/lib/python3.10/site-packages (from bce-python-sdk->visualdl->paddleocr>=2.0.1) (0.18.3)\n",
      "Requirement already satisfied: pycryptodome>=3.8.0 in /Users/lincai/anaconda3/lib/python3.10/site-packages (from bce-python-sdk->visualdl->paddleocr>=2.0.1) (3.20.0)\n",
      "Requirement already satisfied: kiwisolver>=1.3.1 in /Users/lincai/anaconda3/lib/python3.10/site-packages (from matplotlib->imgaug->paddleocr>=2.0.1) (1.4.5)\n",
      "Requirement already satisfied: cycler>=0.10 in /Users/lincai/anaconda3/lib/python3.10/site-packages (from matplotlib->imgaug->paddleocr>=2.0.1) (0.12.1)\n",
      "Requirement already satisfied: pyparsing>=2.3.1 in /Users/lincai/anaconda3/lib/python3.10/site-packages (from matplotlib->imgaug->paddleocr>=2.0.1) (3.1.2)\n",
      "Requirement already satisfied: python-dateutil>=2.7 in /Users/lincai/anaconda3/lib/python3.10/site-packages (from matplotlib->imgaug->paddleocr>=2.0.1) (2.8.2)\n",
      "Requirement already satisfied: contourpy>=1.0.1 in /Users/lincai/anaconda3/lib/python3.10/site-packages (from matplotlib->imgaug->paddleocr>=2.0.1) (1.2.0)\n",
      "Requirement already satisfied: tzdata>=2022.7 in /Users/lincai/anaconda3/lib/python3.10/site-packages (from pandas->visualdl->paddleocr>=2.0.1) (2024.1)\n",
      "Requirement already satisfied: urllib3<3,>=1.21.1 in /Users/lincai/anaconda3/lib/python3.10/site-packages (from requests->premailer->paddleocr>=2.0.1) (1.26.15)\n",
      "Requirement already satisfied: certifi>=2017.4.17 in /Users/lincai/anaconda3/lib/python3.10/site-packages (from requests->premailer->paddleocr>=2.0.1) (2022.12.7)\n",
      "Requirement already satisfied: idna<4,>=2.5 in /Users/lincai/anaconda3/lib/python3.10/site-packages (from requests->premailer->paddleocr>=2.0.1) (3.4)\n",
      "Requirement already satisfied: charset-normalizer<4,>=2 in /Users/lincai/anaconda3/lib/python3.10/site-packages (from requests->premailer->paddleocr>=2.0.1) (2.0.4)\n",
      "Requirement already satisfied: MarkupSafe>=2.0 in /Users/lincai/anaconda3/lib/python3.10/site-packages (from Jinja2>=3.1.2->flask>=1.1.1->visualdl->paddleocr>=2.0.1) (2.1.1)\n"
     ]
    }
   ],
   "source": [
    "!pip install pyautogui\n",
    "!pip install paddlepaddle -i https://mirror.baidu.com/pypi/simple\n",
    "!pip install \"paddleocr>=2.0.1\""
   ]
  },
  {
   "cell_type": "code",
   "execution_count": 4,
   "metadata": {},
   "outputs": [],
   "source": [
    "from ai_auto_test import *\n",
    "\n",
    "# scan a single image\n",
    "rtn = scan_image('./sample.png')"
   ]
  },
  {
   "cell_type": "code",
   "execution_count": 3,
   "metadata": {},
   "outputs": [
    {
     "name": "stdout",
     "output_type": "stream",
     "text": [
      "v\n",
      " chowbus GOF\n",
      " Braze\n",
      " All Bookmarks\n",
      "3 Hugging Face\n",
      "Q Search models, datasets, users...\n",
      "Models\n",
      " Datasets\n",
      "B Spaces\n",
      " Posts\n",
      "6 Docs\n",
      " Solutions\n",
      " Pricing\n",
      "Log In\n",
      "Sign Up\n",
      "Tasks\n",
      "Models 558,448\n",
      "C Filter by name\n",
      "Libraries\n",
      "Datasets\n",
      "Languages\n",
      "Other\n",
      "new Full-text search\n",
      "Licenses\n",
      " Sort: Trending\n",
      "Q Filter Tasks by name\n",
      "x xai-org/grok-1\n",
      " CohereForAI/c4ai-command-r-v01\n",
      " Multimodal\n",
      " Text Generation : Updated 1 day ago .  1.22k\n",
      " Text Generation . Updated 1 day ago .  13k .  682\n",
      "Image-Text-to-Text\n",
      "Visual Question Answering\n",
      "NousResearch/Hermes-2-Pro-Mistra1-7B\n",
      "G google/gemma-7b\n",
      "Eo\n",
      "Document Question Answering\n",
      " Text Generation : Updated 5 days ago :  3.88k .  237\n",
      " Text Generation : Updated 21 days ago :  269k :  2.46k\n",
      "Computer Vision\n",
      "s. stabilityai/sv3d\n",
      " cagliostrolab/animagine-xl-3.1\n",
      " Depth Estimation\n",
      "59\n",
      "Image Classification\n",
      " Image-to-Video : Updated about 20 hours ago :  160\n",
      " Text-to-Image : Updated 2 days ago :  8.71k .  145\n",
      "Eo\n",
      "Object Detection\n",
      "Image Segmentation\n",
      " Text-to-Image\n",
      "Image-to-Text\n",
      " Image-to-Image\n",
      "I ByteDance/SDXL-Lightning\n",
      "M mistralai/Mixtra1-8x7B-Instruct-v0.1\n",
      " Text-to-Image : Updated 7 days ago :  612k :  1.37k\n",
      " Text Generation : Updated 20 days ago :  991k .  3.39k\n",
      "Image-to-Video\n",
      "Unconditional Image Generation\n",
      "Video Classification\n",
      "5k\n",
      "Oj\n",
      "Text-to-Video\n",
      "I NousResearch/Hermes-2-Pro-Mistra1-7B-GGUF\n",
      " meta-1lama/Llama-2-7b-chat-hf\n",
      "Zero-Shot Image Classification\n",
      " Mask Generation\n",
      "Updated 7 days ago :  98\n",
      " Text Generation : Updated 1 day ago :  1.29M .  3.09k\n",
      "Zero-Shot Object Detection\n",
      "Text-to-3D\n",
      "::\n",
      "s. stabilityai/stable-diffusion-xl-base-1.0\n",
      "M mistralai/Mistral-7B-Instruct-v0.2\n",
      "Image-to-3D\n",
      " Image Feature Extraction\n",
      " Text-to-Image : Updated Oct 31, 2023 :  3.03M :  4.76k\n",
      " Text Generation : Updated 20 days ago :  1.61M .  1.19k\n",
      "Natural Language Processing\n",
      " openai/whisper-large-v3\n",
      "Text Classification\n",
      " Token Classification\n",
      " NousResearch/Genstruct-7B\n",
      ":::\n",
      "40\n",
      " Automatic Speech Recognition : Updated Feb 8 .  1.06M .  2.02k\n",
      " Text Generation : Updated 13 days ago :  2.11k .  303\n",
      "Table Question Answering\n",
      " Question Answering\n",
      " Zero-Shot Classification\n",
      "*A\n",
      " Translation\n",
      " Crystalcareai/GemMoE-Beta-1\n",
      " deepseek-ai/deepseek-v1-7b-chat\n",
      "Feature Extraction\n",
      " Text Generation : Updated about 4 hours ago :  1.53k :  73\n",
      " Image-Text-to-Text : Updated 5 days ago :  7k :  132\n",
      "Summarization\n",
      "Text Generation\n",
      "5\n",
      "Text2Text Generation\n",
      " meta-llama/Llama-2-7b\n",
      " briaai/RMBG-1.4\n",
      " Fill-Mask\n",
      " Sentence Similarity\n",
      " Text Generation : Updated 1 day ago :  3.68k\n",
      " Image-to-Image : Updated 6 days ago :  46k :  802\n",
      "Audio\n"
     ]
    }
   ],
   "source": [
    "# print the strings in the result\n",
    "for item in rtn[0]:\n",
    "    print(item[1][0])"
   ]
  },
  {
   "cell_type": "code",
   "execution_count": 5,
   "metadata": {},
   "outputs": [
    {
     "name": "stdout",
     "output_type": "stream",
     "text": [
      "./screen1713832397.png\n",
      "Match Found:  [[[2102.0, 317.0], [2318.0, 317.0], [2318.0, 357.0], [2102.0, 357.0]], ('0 Launcher', 0.9279558062553406)]\n"
     ]
    }
   ],
   "source": [
    "import pyautogui\n",
    "import time\n",
    "\n",
    "# Find and move to \"Launcher\" on your current screen, assuming u r in jupyter browser interface\n",
    "pyautogui.moveTo(100, 100, 2)\n",
    "rtn = find_and_move_to(\"Launcher\")\n",
    "assert(rtn)"
   ]
  },
  {
   "cell_type": "code",
   "execution_count": 6,
   "metadata": {},
   "outputs": [
    {
     "name": "stdout",
     "output_type": "stream",
     "text": [
      "./screen1710898167.png\n",
      "Match Found:  [[[698.0, 118.0], [1187.0, 118.0], [1187.0, 144.0], [698.0, 144.0]], ('es/auto-8/tree/ai-auto-test/test.ipynb', 0.9970572590827942)]\n"
     ]
    }
   ],
   "source": [
    "# Find and move to the 1st \"test.ipynb\", that is in the address field of your browser\n",
    "pyautogui.moveTo(100, 100, 2)\n",
    "rtn = find_and_click(\"test.ipynb\")\n",
    "assert(rtn)\n",
    "time.sleep(2)"
   ]
  },
  {
   "cell_type": "code",
   "execution_count": 6,
   "metadata": {},
   "outputs": [
    {
     "name": "stdout",
     "output_type": "stream",
     "text": [
      "./screen1713832457.png\n",
      "Match Found:  [[[1233.0, 305.0], [1565.0, 313.0], [1564.0, 361.0], [1232.0, 353.0]], ('x paddle_test.ipynb', 0.9888585805892944)]\n"
     ]
    }
   ],
   "source": [
    "# Find and move to the 2nd \"test.ipynb\", that is a tab page head of the jupyter book\n",
    "index, _, _ = rtn\n",
    "pyautogui.moveTo(100, 100, 2)\n",
    "rtn = find_and_click(\"test.ipynb\", after=index)\n",
    "assert(rtn)\n",
    "time.sleep(2)"
   ]
  },
  {
   "cell_type": "code",
   "execution_count": 10,
   "metadata": {},
   "outputs": [
    {
     "data": {
      "text/plain": [
       "(11, 534.0, 162.66666666666666)"
      ]
     },
     "execution_count": 10,
     "metadata": {},
     "output_type": "execute_result"
    }
   ],
   "source": [
    "rtn"
   ]
  },
  {
   "cell_type": "code",
   "execution_count": 9,
   "metadata": {},
   "outputs": [
    {
     "name": "stdout",
     "output_type": "stream",
     "text": [
      "./screen1713832884.png\n",
      "Match Found:  [[[429.0, 571.0], [646.0, 571.0], [646.0, 608.0], [429.0, 608.0]], ('reachlin.github.io', 0.994388997554779)]\n"
     ]
    }
   ],
   "source": [
    "pyautogui.hotkey('command', 't')\n",
    "pyautogui.write('https://www.bing.com/')\n",
    "pyautogui.press('enter')\n",
    "time.sleep(6)\n",
    "pyautogui.write('reachlin')\n",
    "pyautogui.press('enter')\n",
    "time.sleep(6)\n",
    "rtn = find_and_click(\"reachlin.github.io\")"
   ]
  },
  {
   "cell_type": "code",
   "execution_count": null,
   "metadata": {},
   "outputs": [],
   "source": []
  }
 ],
 "metadata": {
  "kernelspec": {
   "display_name": "Python 3 (ipykernel)",
   "language": "python",
   "name": "python3"
  },
  "language_info": {
   "codemirror_mode": {
    "name": "ipython",
    "version": 3
   },
   "file_extension": ".py",
   "mimetype": "text/x-python",
   "name": "python",
   "nbconvert_exporter": "python",
   "pygments_lexer": "ipython3",
   "version": "3.10.9"
  }
 },
 "nbformat": 4,
 "nbformat_minor": 4
}
